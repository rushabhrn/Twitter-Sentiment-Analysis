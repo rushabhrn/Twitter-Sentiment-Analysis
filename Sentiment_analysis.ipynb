{
 "cells": [
  {
   "cell_type": "code",
   "execution_count": 1,
   "id": "3b5d8a24-90bd-40d3-a2f6-03884f873544",
   "metadata": {},
   "outputs": [
    {
     "name": "stdout",
     "output_type": "stream",
     "text": [
      "Requirement already satisfied: nltk in c:\\users\\rusha\\appdata\\local\\programs\\python\\python311\\lib\\site-packages (3.8.1)\n",
      "Requirement already satisfied: tensorflow in c:\\users\\rusha\\appdata\\local\\programs\\python\\python311\\lib\\site-packages (2.15.0)\n",
      "Requirement already satisfied: livelossplot in c:\\users\\rusha\\appdata\\local\\programs\\python\\python311\\lib\\site-packages (0.5.5)\n",
      "Requirement already satisfied: scikit-learn in c:\\users\\rusha\\appdata\\local\\programs\\python\\python311\\lib\\site-packages (1.4.1.post1)\n",
      "Requirement already satisfied: click in c:\\users\\rusha\\appdata\\local\\programs\\python\\python311\\lib\\site-packages (from nltk) (8.1.7)\n",
      "Requirement already satisfied: joblib in c:\\users\\rusha\\appdata\\local\\programs\\python\\python311\\lib\\site-packages (from nltk) (1.3.2)\n",
      "Requirement already satisfied: regex>=2021.8.3 in c:\\users\\rusha\\appdata\\local\\programs\\python\\python311\\lib\\site-packages (from nltk) (2023.12.25)\n",
      "Requirement already satisfied: tqdm in c:\\users\\rusha\\appdata\\local\\programs\\python\\python311\\lib\\site-packages (from nltk) (4.66.1)\n",
      "Requirement already satisfied: tensorflow-intel==2.15.0 in c:\\users\\rusha\\appdata\\local\\programs\\python\\python311\\lib\\site-packages (from tensorflow) (2.15.0)\n",
      "Requirement already satisfied: absl-py>=1.0.0 in c:\\users\\rusha\\appdata\\local\\programs\\python\\python311\\lib\\site-packages (from tensorflow-intel==2.15.0->tensorflow) (2.1.0)\n",
      "Requirement already satisfied: astunparse>=1.6.0 in c:\\users\\rusha\\appdata\\local\\programs\\python\\python311\\lib\\site-packages (from tensorflow-intel==2.15.0->tensorflow) (1.6.3)\n",
      "Requirement already satisfied: flatbuffers>=23.5.26 in c:\\users\\rusha\\appdata\\local\\programs\\python\\python311\\lib\\site-packages (from tensorflow-intel==2.15.0->tensorflow) (23.5.26)\n",
      "Requirement already satisfied: gast!=0.5.0,!=0.5.1,!=0.5.2,>=0.2.1 in c:\\users\\rusha\\appdata\\local\\programs\\python\\python311\\lib\\site-packages (from tensorflow-intel==2.15.0->tensorflow) (0.5.4)\n",
      "Requirement already satisfied: google-pasta>=0.1.1 in c:\\users\\rusha\\appdata\\local\\programs\\python\\python311\\lib\\site-packages (from tensorflow-intel==2.15.0->tensorflow) (0.2.0)\n",
      "Requirement already satisfied: h5py>=2.9.0 in c:\\users\\rusha\\appdata\\local\\programs\\python\\python311\\lib\\site-packages (from tensorflow-intel==2.15.0->tensorflow) (3.10.0)\n",
      "Requirement already satisfied: libclang>=13.0.0 in c:\\users\\rusha\\appdata\\local\\programs\\python\\python311\\lib\\site-packages (from tensorflow-intel==2.15.0->tensorflow) (16.0.6)\n",
      "Requirement already satisfied: ml-dtypes~=0.2.0 in c:\\users\\rusha\\appdata\\local\\programs\\python\\python311\\lib\\site-packages (from tensorflow-intel==2.15.0->tensorflow) (0.2.0)\n",
      "Requirement already satisfied: numpy<2.0.0,>=1.23.5 in c:\\users\\rusha\\appdata\\local\\programs\\python\\python311\\lib\\site-packages (from tensorflow-intel==2.15.0->tensorflow) (1.26.3)\n",
      "Requirement already satisfied: opt-einsum>=2.3.2 in c:\\users\\rusha\\appdata\\local\\programs\\python\\python311\\lib\\site-packages (from tensorflow-intel==2.15.0->tensorflow) (3.3.0)\n",
      "Requirement already satisfied: packaging in c:\\users\\rusha\\appdata\\local\\programs\\python\\python311\\lib\\site-packages (from tensorflow-intel==2.15.0->tensorflow) (23.2)\n",
      "Requirement already satisfied: protobuf!=4.21.0,!=4.21.1,!=4.21.2,!=4.21.3,!=4.21.4,!=4.21.5,<5.0.0dev,>=3.20.3 in c:\\users\\rusha\\appdata\\local\\programs\\python\\python311\\lib\\site-packages (from tensorflow-intel==2.15.0->tensorflow) (4.23.4)\n",
      "Requirement already satisfied: setuptools in c:\\users\\rusha\\appdata\\local\\programs\\python\\python311\\lib\\site-packages (from tensorflow-intel==2.15.0->tensorflow) (65.5.0)\n",
      "Requirement already satisfied: six>=1.12.0 in c:\\users\\rusha\\appdata\\local\\programs\\python\\python311\\lib\\site-packages (from tensorflow-intel==2.15.0->tensorflow) (1.16.0)\n",
      "Requirement already satisfied: termcolor>=1.1.0 in c:\\users\\rusha\\appdata\\local\\programs\\python\\python311\\lib\\site-packages (from tensorflow-intel==2.15.0->tensorflow) (2.4.0)\n",
      "Requirement already satisfied: typing-extensions>=3.6.6 in c:\\users\\rusha\\appdata\\local\\programs\\python\\python311\\lib\\site-packages (from tensorflow-intel==2.15.0->tensorflow) (4.9.0)\n",
      "Requirement already satisfied: wrapt<1.15,>=1.11.0 in c:\\users\\rusha\\appdata\\local\\programs\\python\\python311\\lib\\site-packages (from tensorflow-intel==2.15.0->tensorflow) (1.14.1)\n",
      "Requirement already satisfied: tensorflow-io-gcs-filesystem>=0.23.1 in c:\\users\\rusha\\appdata\\local\\programs\\python\\python311\\lib\\site-packages (from tensorflow-intel==2.15.0->tensorflow) (0.31.0)\n",
      "Requirement already satisfied: grpcio<2.0,>=1.24.3 in c:\\users\\rusha\\appdata\\local\\programs\\python\\python311\\lib\\site-packages (from tensorflow-intel==2.15.0->tensorflow) (1.60.0)\n",
      "Requirement already satisfied: tensorboard<2.16,>=2.15 in c:\\users\\rusha\\appdata\\local\\programs\\python\\python311\\lib\\site-packages (from tensorflow-intel==2.15.0->tensorflow) (2.15.1)\n",
      "Requirement already satisfied: tensorflow-estimator<2.16,>=2.15.0 in c:\\users\\rusha\\appdata\\local\\programs\\python\\python311\\lib\\site-packages (from tensorflow-intel==2.15.0->tensorflow) (2.15.0)\n",
      "Requirement already satisfied: keras<2.16,>=2.15.0 in c:\\users\\rusha\\appdata\\local\\programs\\python\\python311\\lib\\site-packages (from tensorflow-intel==2.15.0->tensorflow) (2.15.0)\n",
      "Requirement already satisfied: matplotlib in c:\\users\\rusha\\appdata\\local\\programs\\python\\python311\\lib\\site-packages (from livelossplot) (3.8.2)\n",
      "Requirement already satisfied: bokeh in c:\\users\\rusha\\appdata\\local\\programs\\python\\python311\\lib\\site-packages (from livelossplot) (3.3.4)\n",
      "Requirement already satisfied: scipy>=1.6.0 in c:\\users\\rusha\\appdata\\local\\programs\\python\\python311\\lib\\site-packages (from scikit-learn) (1.12.0)\n",
      "Requirement already satisfied: threadpoolctl>=2.0.0 in c:\\users\\rusha\\appdata\\local\\programs\\python\\python311\\lib\\site-packages (from scikit-learn) (3.3.0)\n",
      "Requirement already satisfied: Jinja2>=2.9 in c:\\users\\rusha\\appdata\\local\\programs\\python\\python311\\lib\\site-packages (from bokeh->livelossplot) (3.1.3)\n",
      "Requirement already satisfied: contourpy>=1 in c:\\users\\rusha\\appdata\\local\\programs\\python\\python311\\lib\\site-packages (from bokeh->livelossplot) (1.2.0)\n",
      "Requirement already satisfied: pandas>=1.2 in c:\\users\\rusha\\appdata\\local\\programs\\python\\python311\\lib\\site-packages (from bokeh->livelossplot) (2.2.0)\n",
      "Requirement already satisfied: pillow>=7.1.0 in c:\\users\\rusha\\appdata\\local\\programs\\python\\python311\\lib\\site-packages (from bokeh->livelossplot) (10.2.0)\n",
      "Requirement already satisfied: PyYAML>=3.10 in c:\\users\\rusha\\appdata\\local\\programs\\python\\python311\\lib\\site-packages (from bokeh->livelossplot) (6.0.1)\n",
      "Requirement already satisfied: tornado>=5.1 in c:\\users\\rusha\\appdata\\local\\programs\\python\\python311\\lib\\site-packages (from bokeh->livelossplot) (6.4)\n",
      "Requirement already satisfied: xyzservices>=2021.09.1 in c:\\users\\rusha\\appdata\\local\\programs\\python\\python311\\lib\\site-packages (from bokeh->livelossplot) (2023.10.1)\n",
      "Requirement already satisfied: colorama in c:\\users\\rusha\\appdata\\local\\programs\\python\\python311\\lib\\site-packages (from click->nltk) (0.4.6)\n",
      "Requirement already satisfied: cycler>=0.10 in c:\\users\\rusha\\appdata\\local\\programs\\python\\python311\\lib\\site-packages (from matplotlib->livelossplot) (0.12.1)\n",
      "Requirement already satisfied: fonttools>=4.22.0 in c:\\users\\rusha\\appdata\\local\\programs\\python\\python311\\lib\\site-packages (from matplotlib->livelossplot) (4.47.2)\n",
      "Requirement already satisfied: kiwisolver>=1.3.1 in c:\\users\\rusha\\appdata\\local\\programs\\python\\python311\\lib\\site-packages (from matplotlib->livelossplot) (1.4.5)\n",
      "Requirement already satisfied: pyparsing>=2.3.1 in c:\\users\\rusha\\appdata\\local\\programs\\python\\python311\\lib\\site-packages (from matplotlib->livelossplot) (3.1.1)\n",
      "Requirement already satisfied: python-dateutil>=2.7 in c:\\users\\rusha\\appdata\\local\\programs\\python\\python311\\lib\\site-packages (from matplotlib->livelossplot) (2.8.2)\n",
      "Requirement already satisfied: wheel<1.0,>=0.23.0 in c:\\users\\rusha\\appdata\\local\\programs\\python\\python311\\lib\\site-packages (from astunparse>=1.6.0->tensorflow-intel==2.15.0->tensorflow) (0.42.0)\n",
      "Requirement already satisfied: MarkupSafe>=2.0 in c:\\users\\rusha\\appdata\\local\\programs\\python\\python311\\lib\\site-packages (from Jinja2>=2.9->bokeh->livelossplot) (2.1.4)\n",
      "Requirement already satisfied: pytz>=2020.1 in c:\\users\\rusha\\appdata\\local\\programs\\python\\python311\\lib\\site-packages (from pandas>=1.2->bokeh->livelossplot) (2023.3.post1)\n",
      "Requirement already satisfied: tzdata>=2022.7 in c:\\users\\rusha\\appdata\\local\\programs\\python\\python311\\lib\\site-packages (from pandas>=1.2->bokeh->livelossplot) (2023.4)\n",
      "Requirement already satisfied: google-auth<3,>=1.6.3 in c:\\users\\rusha\\appdata\\local\\programs\\python\\python311\\lib\\site-packages (from tensorboard<2.16,>=2.15->tensorflow-intel==2.15.0->tensorflow) (2.26.2)\n",
      "Requirement already satisfied: google-auth-oauthlib<2,>=0.5 in c:\\users\\rusha\\appdata\\local\\programs\\python\\python311\\lib\\site-packages (from tensorboard<2.16,>=2.15->tensorflow-intel==2.15.0->tensorflow) (1.2.0)\n",
      "Requirement already satisfied: markdown>=2.6.8 in c:\\users\\rusha\\appdata\\local\\programs\\python\\python311\\lib\\site-packages (from tensorboard<2.16,>=2.15->tensorflow-intel==2.15.0->tensorflow) (3.5.2)\n",
      "Requirement already satisfied: requests<3,>=2.21.0 in c:\\users\\rusha\\appdata\\local\\programs\\python\\python311\\lib\\site-packages (from tensorboard<2.16,>=2.15->tensorflow-intel==2.15.0->tensorflow) (2.31.0)\n",
      "Requirement already satisfied: tensorboard-data-server<0.8.0,>=0.7.0 in c:\\users\\rusha\\appdata\\local\\programs\\python\\python311\\lib\\site-packages (from tensorboard<2.16,>=2.15->tensorflow-intel==2.15.0->tensorflow) (0.7.2)\n",
      "Requirement already satisfied: werkzeug>=1.0.1 in c:\\users\\rusha\\appdata\\local\\programs\\python\\python311\\lib\\site-packages (from tensorboard<2.16,>=2.15->tensorflow-intel==2.15.0->tensorflow) (3.0.1)\n",
      "Requirement already satisfied: cachetools<6.0,>=2.0.0 in c:\\users\\rusha\\appdata\\local\\programs\\python\\python311\\lib\\site-packages (from google-auth<3,>=1.6.3->tensorboard<2.16,>=2.15->tensorflow-intel==2.15.0->tensorflow) (5.3.2)\n",
      "Requirement already satisfied: pyasn1-modules>=0.2.1 in c:\\users\\rusha\\appdata\\local\\programs\\python\\python311\\lib\\site-packages (from google-auth<3,>=1.6.3->tensorboard<2.16,>=2.15->tensorflow-intel==2.15.0->tensorflow) (0.3.0)\n",
      "Requirement already satisfied: rsa<5,>=3.1.4 in c:\\users\\rusha\\appdata\\local\\programs\\python\\python311\\lib\\site-packages (from google-auth<3,>=1.6.3->tensorboard<2.16,>=2.15->tensorflow-intel==2.15.0->tensorflow) (4.9)\n",
      "Requirement already satisfied: requests-oauthlib>=0.7.0 in c:\\users\\rusha\\appdata\\local\\programs\\python\\python311\\lib\\site-packages (from google-auth-oauthlib<2,>=0.5->tensorboard<2.16,>=2.15->tensorflow-intel==2.15.0->tensorflow) (1.3.1)\n",
      "Requirement already satisfied: charset-normalizer<4,>=2 in c:\\users\\rusha\\appdata\\local\\programs\\python\\python311\\lib\\site-packages (from requests<3,>=2.21.0->tensorboard<2.16,>=2.15->tensorflow-intel==2.15.0->tensorflow) (3.3.2)\n",
      "Requirement already satisfied: idna<4,>=2.5 in c:\\users\\rusha\\appdata\\local\\programs\\python\\python311\\lib\\site-packages (from requests<3,>=2.21.0->tensorboard<2.16,>=2.15->tensorflow-intel==2.15.0->tensorflow) (3.6)\n",
      "Requirement already satisfied: urllib3<3,>=1.21.1 in c:\\users\\rusha\\appdata\\local\\programs\\python\\python311\\lib\\site-packages (from requests<3,>=2.21.0->tensorboard<2.16,>=2.15->tensorflow-intel==2.15.0->tensorflow) (2.1.0)\n",
      "Requirement already satisfied: certifi>=2017.4.17 in c:\\users\\rusha\\appdata\\local\\programs\\python\\python311\\lib\\site-packages (from requests<3,>=2.21.0->tensorboard<2.16,>=2.15->tensorflow-intel==2.15.0->tensorflow) (2023.11.17)\n",
      "Requirement already satisfied: pyasn1<0.6.0,>=0.4.6 in c:\\users\\rusha\\appdata\\local\\programs\\python\\python311\\lib\\site-packages (from pyasn1-modules>=0.2.1->google-auth<3,>=1.6.3->tensorboard<2.16,>=2.15->tensorflow-intel==2.15.0->tensorflow) (0.5.1)\n",
      "Requirement already satisfied: oauthlib>=3.0.0 in c:\\users\\rusha\\appdata\\local\\programs\\python\\python311\\lib\\site-packages (from requests-oauthlib>=0.7.0->google-auth-oauthlib<2,>=0.5->tensorboard<2.16,>=2.15->tensorflow-intel==2.15.0->tensorflow) (3.2.2)\n"
     ]
    },
    {
     "name": "stderr",
     "output_type": "stream",
     "text": [
      "\n",
      "[notice] A new release of pip is available: 23.2.1 -> 24.0\n",
      "[notice] To update, run: python.exe -m pip install --upgrade pip\n"
     ]
    }
   ],
   "source": [
    "!pip install nltk tensorflow livelossplot scikit-learn\n"
   ]
  },
  {
   "cell_type": "code",
   "execution_count": 2,
   "id": "14f93575-50f1-434c-a4f3-ac1e3828ac0d",
   "metadata": {},
   "outputs": [
    {
     "name": "stderr",
     "output_type": "stream",
     "text": [
      "[nltk_data] Downloading package punkt to ....\n",
      "[nltk_data]   Package punkt is already up-to-date!\n",
      "[nltk_data] Downloading package stopwords to ....\n",
      "[nltk_data]   Package stopwords is already up-to-date!\n",
      "[nltk_data] Downloading package stopwords to\n",
      "[nltk_data]     C:\\Users\\rusha\\AppData\\Roaming\\nltk_data...\n",
      "[nltk_data]   Package stopwords is already up-to-date!\n"
     ]
    },
    {
     "name": "stdout",
     "output_type": "stream",
     "text": [
      "WARNING:tensorflow:From C:\\Users\\rusha\\AppData\\Local\\Programs\\Python\\Python311\\Lib\\site-packages\\keras\\src\\losses.py:2976: The name tf.losses.sparse_softmax_cross_entropy is deprecated. Please use tf.compat.v1.losses.sparse_softmax_cross_entropy instead.\n",
      "\n"
     ]
    }
   ],
   "source": [
    "import nltk\n",
    "nltk.download('punkt', download_dir='.')\n",
    "nltk.download('stopwords', download_dir='.')\n",
    "nltk.download('stopwords')\n",
    "import string\n",
    "from sklearn.feature_extraction.text import CountVectorizer\n",
    "from sklearn.metrics import pairwise_distances\n",
    "import keras\n",
    "\n",
    "import pandas as pd\n",
    "import numpy as np"
   ]
  },
  {
   "cell_type": "code",
   "execution_count": 3,
   "id": "2bc6e481-f5ff-46da-854a-3902e13b5b6b",
   "metadata": {},
   "outputs": [],
   "source": [
    "import tensorflow as tf"
   ]
  },
  {
   "cell_type": "code",
   "execution_count": 4,
   "id": "7b4a9ec2-da08-4db6-84d8-2ed0540ae9f1",
   "metadata": {},
   "outputs": [],
   "source": [
    "from livelossplot.tf_keras import PlotLossesCallback"
   ]
  },
  {
   "cell_type": "markdown",
   "id": "122f3db7-d9fa-4900-803f-f974cdac233c",
   "metadata": {},
   "source": [
    "**<h2>1. Data Preprocessing </h2>**"
   ]
  },
  {
   "cell_type": "markdown",
   "id": "f568b7f4-324a-4860-ae83-0515142392a8",
   "metadata": {},
   "source": [
    "**<h4>1.1 Loading Data</h4>**"
   ]
  },
  {
   "cell_type": "code",
   "execution_count": 5,
   "id": "5b4830ef-820f-48a4-a31b-8cfa938aee43",
   "metadata": {},
   "outputs": [
    {
     "data": {
      "text/html": [
       "<div>\n",
       "<style scoped>\n",
       "    .dataframe tbody tr th:only-of-type {\n",
       "        vertical-align: middle;\n",
       "    }\n",
       "\n",
       "    .dataframe tbody tr th {\n",
       "        vertical-align: top;\n",
       "    }\n",
       "\n",
       "    .dataframe thead th {\n",
       "        text-align: right;\n",
       "    }\n",
       "</style>\n",
       "<table border=\"1\" class=\"dataframe\">\n",
       "  <thead>\n",
       "    <tr style=\"text-align: right;\">\n",
       "      <th></th>\n",
       "      <th>2401</th>\n",
       "      <th>Borderlands</th>\n",
       "      <th>Positive</th>\n",
       "      <th>im getting on borderlands and i will murder you all ,</th>\n",
       "    </tr>\n",
       "  </thead>\n",
       "  <tbody>\n",
       "    <tr>\n",
       "      <th>0</th>\n",
       "      <td>2401</td>\n",
       "      <td>Borderlands</td>\n",
       "      <td>Positive</td>\n",
       "      <td>I am coming to the borders and I will kill you...</td>\n",
       "    </tr>\n",
       "    <tr>\n",
       "      <th>1</th>\n",
       "      <td>2401</td>\n",
       "      <td>Borderlands</td>\n",
       "      <td>Positive</td>\n",
       "      <td>im getting on borderlands and i will kill you ...</td>\n",
       "    </tr>\n",
       "    <tr>\n",
       "      <th>2</th>\n",
       "      <td>2401</td>\n",
       "      <td>Borderlands</td>\n",
       "      <td>Positive</td>\n",
       "      <td>im coming on borderlands and i will murder you...</td>\n",
       "    </tr>\n",
       "    <tr>\n",
       "      <th>3</th>\n",
       "      <td>2401</td>\n",
       "      <td>Borderlands</td>\n",
       "      <td>Positive</td>\n",
       "      <td>im getting on borderlands 2 and i will murder ...</td>\n",
       "    </tr>\n",
       "    <tr>\n",
       "      <th>4</th>\n",
       "      <td>2401</td>\n",
       "      <td>Borderlands</td>\n",
       "      <td>Positive</td>\n",
       "      <td>im getting into borderlands and i can murder y...</td>\n",
       "    </tr>\n",
       "  </tbody>\n",
       "</table>\n",
       "</div>"
      ],
      "text/plain": [
       "   2401  Borderlands  Positive  \\\n",
       "0  2401  Borderlands  Positive   \n",
       "1  2401  Borderlands  Positive   \n",
       "2  2401  Borderlands  Positive   \n",
       "3  2401  Borderlands  Positive   \n",
       "4  2401  Borderlands  Positive   \n",
       "\n",
       "  im getting on borderlands and i will murder you all ,  \n",
       "0  I am coming to the borders and I will kill you...     \n",
       "1  im getting on borderlands and i will kill you ...     \n",
       "2  im coming on borderlands and i will murder you...     \n",
       "3  im getting on borderlands 2 and i will murder ...     \n",
       "4  im getting into borderlands and i can murder y...     "
      ]
     },
     "execution_count": 5,
     "metadata": {},
     "output_type": "execute_result"
    }
   ],
   "source": [
    "df = pd.read_csv('twitter_training.csv')\n",
    "df.head()"
   ]
  },
  {
   "cell_type": "code",
   "execution_count": 6,
   "id": "bb32e181-75a5-4a8b-84f1-80ccfdd65e09",
   "metadata": {},
   "outputs": [
    {
     "data": {
      "text/plain": [
       "(74681, 4)"
      ]
     },
     "execution_count": 6,
     "metadata": {},
     "output_type": "execute_result"
    }
   ],
   "source": [
    "df.shape"
   ]
  },
  {
   "cell_type": "markdown",
   "id": "71bd9627-5742-4d1d-a2b8-951a6a6d37cb",
   "metadata": {},
   "source": [
    "**<h4>1.2 Removing Gaps</h4>**"
   ]
  },
  {
   "cell_type": "code",
   "execution_count": 7,
   "id": "51383b75-8db9-4fe5-96a0-a7cb1f096de1",
   "metadata": {},
   "outputs": [],
   "source": [
    "df.drop(df[df.iloc[:, -1].isnull()].index, inplace=True)"
   ]
  },
  {
   "cell_type": "code",
   "execution_count": 8,
   "id": "0595397b-2eb7-4457-b688-6c2c03e41281",
   "metadata": {},
   "outputs": [
    {
     "data": {
      "text/plain": [
       "(73995, 4)"
      ]
     },
     "execution_count": 8,
     "metadata": {},
     "output_type": "execute_result"
    }
   ],
   "source": [
    "df.shape"
   ]
  },
  {
   "cell_type": "markdown",
   "id": "be0208f9-86e5-4b92-8d08-84e91eda5db4",
   "metadata": {},
   "source": [
    "**<h4>1.3 Tokenize text</h4>**"
   ]
  },
  {
   "cell_type": "markdown",
   "id": "ffbd0555-0e3f-48e2-962a-2eb32aafbd21",
   "metadata": {},
   "source": [
    "**<h5>1.3.1 Create a function for Stopwords and Punctuations</h5>**"
   ]
  },
  {
   "cell_type": "code",
   "execution_count": 9,
   "id": "8e6afee8-2662-44d6-aa59-7d02d31b02c0",
   "metadata": {},
   "outputs": [],
   "source": [
    "def tokenize_text(text):\n",
    "    tokenized_string = nltk.word_tokenize(text)\n",
    "    stop_words = nltk.corpus.stopwords.words('english')\n",
    "    tokens = [i.lower() for i in tokenized_string if i not in string.punctuation]\n",
    "    tokens = [i.lower() for i in tokens if i not in stop_words]\n",
    "    return tokens"
   ]
  },
  {
   "cell_type": "code",
   "execution_count": 10,
   "id": "b7680ea3-95bf-4ecf-98d7-228d178d6823",
   "metadata": {},
   "outputs": [
    {
     "data": {
      "text/plain": [
       "0                  [coming, borders, kill]\n",
       "1         [im, getting, borderlands, kill]\n",
       "2        [im, coming, borderlands, murder]\n",
       "3    [im, getting, borderlands, 2, murder]\n",
       "4       [im, getting, borderlands, murder]\n",
       "Name: im getting on borderlands and i will murder you all ,, dtype: object"
      ]
     },
     "execution_count": 10,
     "metadata": {},
     "output_type": "execute_result"
    }
   ],
   "source": [
    "tokensed_tweets = df.iloc[:, -1].apply(tokenize_text)\n",
    "tokensed_tweets[:5]"
   ]
  },
  {
   "cell_type": "code",
   "execution_count": 11,
   "id": "6097afd4-522b-4b6f-985e-7d86281363e2",
   "metadata": {},
   "outputs": [],
   "source": [
    "df['tokensed_tweets'] = tokensed_tweets"
   ]
  },
  {
   "cell_type": "code",
   "execution_count": 12,
   "id": "754677ec-b154-410c-bc8a-4b2772615dae",
   "metadata": {},
   "outputs": [
    {
     "data": {
      "text/html": [
       "<div>\n",
       "<style scoped>\n",
       "    .dataframe tbody tr th:only-of-type {\n",
       "        vertical-align: middle;\n",
       "    }\n",
       "\n",
       "    .dataframe tbody tr th {\n",
       "        vertical-align: top;\n",
       "    }\n",
       "\n",
       "    .dataframe thead th {\n",
       "        text-align: right;\n",
       "    }\n",
       "</style>\n",
       "<table border=\"1\" class=\"dataframe\">\n",
       "  <thead>\n",
       "    <tr style=\"text-align: right;\">\n",
       "      <th></th>\n",
       "      <th>2401</th>\n",
       "      <th>Borderlands</th>\n",
       "      <th>Positive</th>\n",
       "      <th>im getting on borderlands and i will murder you all ,</th>\n",
       "      <th>tokensed_tweets</th>\n",
       "    </tr>\n",
       "  </thead>\n",
       "  <tbody>\n",
       "    <tr>\n",
       "      <th>0</th>\n",
       "      <td>2401</td>\n",
       "      <td>Borderlands</td>\n",
       "      <td>Positive</td>\n",
       "      <td>I am coming to the borders and I will kill you...</td>\n",
       "      <td>[coming, borders, kill]</td>\n",
       "    </tr>\n",
       "    <tr>\n",
       "      <th>1</th>\n",
       "      <td>2401</td>\n",
       "      <td>Borderlands</td>\n",
       "      <td>Positive</td>\n",
       "      <td>im getting on borderlands and i will kill you ...</td>\n",
       "      <td>[im, getting, borderlands, kill]</td>\n",
       "    </tr>\n",
       "    <tr>\n",
       "      <th>2</th>\n",
       "      <td>2401</td>\n",
       "      <td>Borderlands</td>\n",
       "      <td>Positive</td>\n",
       "      <td>im coming on borderlands and i will murder you...</td>\n",
       "      <td>[im, coming, borderlands, murder]</td>\n",
       "    </tr>\n",
       "    <tr>\n",
       "      <th>3</th>\n",
       "      <td>2401</td>\n",
       "      <td>Borderlands</td>\n",
       "      <td>Positive</td>\n",
       "      <td>im getting on borderlands 2 and i will murder ...</td>\n",
       "      <td>[im, getting, borderlands, 2, murder]</td>\n",
       "    </tr>\n",
       "    <tr>\n",
       "      <th>4</th>\n",
       "      <td>2401</td>\n",
       "      <td>Borderlands</td>\n",
       "      <td>Positive</td>\n",
       "      <td>im getting into borderlands and i can murder y...</td>\n",
       "      <td>[im, getting, borderlands, murder]</td>\n",
       "    </tr>\n",
       "  </tbody>\n",
       "</table>\n",
       "</div>"
      ],
      "text/plain": [
       "   2401  Borderlands  Positive  \\\n",
       "0  2401  Borderlands  Positive   \n",
       "1  2401  Borderlands  Positive   \n",
       "2  2401  Borderlands  Positive   \n",
       "3  2401  Borderlands  Positive   \n",
       "4  2401  Borderlands  Positive   \n",
       "\n",
       "  im getting on borderlands and i will murder you all ,  \\\n",
       "0  I am coming to the borders and I will kill you...      \n",
       "1  im getting on borderlands and i will kill you ...      \n",
       "2  im coming on borderlands and i will murder you...      \n",
       "3  im getting on borderlands 2 and i will murder ...      \n",
       "4  im getting into borderlands and i can murder y...      \n",
       "\n",
       "                         tokensed_tweets  \n",
       "0                [coming, borders, kill]  \n",
       "1       [im, getting, borderlands, kill]  \n",
       "2      [im, coming, borderlands, murder]  \n",
       "3  [im, getting, borderlands, 2, murder]  \n",
       "4     [im, getting, borderlands, murder]  "
      ]
     },
     "execution_count": 12,
     "metadata": {},
     "output_type": "execute_result"
    }
   ],
   "source": [
    "df.head()"
   ]
  },
  {
   "cell_type": "markdown",
   "id": "10680058-7910-47ae-86f8-7da519b1d087",
   "metadata": {},
   "source": [
    "**<h5>1.3.2 Vectorize Text</h5>**"
   ]
  },
  {
   "cell_type": "code",
   "execution_count": 13,
   "id": "76efa70c-817b-4866-b16a-69711571e16d",
   "metadata": {},
   "outputs": [
    {
     "name": "stdout",
     "output_type": "stream",
     "text": [
      "Requirement already satisfied: gensim in c:\\users\\rusha\\appdata\\local\\programs\\python\\python311\\lib\\site-packages (4.3.2)\n",
      "Requirement already satisfied: numpy>=1.18.5 in c:\\users\\rusha\\appdata\\local\\programs\\python\\python311\\lib\\site-packages (from gensim) (1.26.3)\n",
      "Requirement already satisfied: scipy>=1.7.0 in c:\\users\\rusha\\appdata\\local\\programs\\python\\python311\\lib\\site-packages (from gensim) (1.12.0)\n",
      "Requirement already satisfied: smart-open>=1.8.1 in c:\\users\\rusha\\appdata\\local\\programs\\python\\python311\\lib\\site-packages (from gensim) (6.4.0)\n"
     ]
    },
    {
     "name": "stderr",
     "output_type": "stream",
     "text": [
      "\n",
      "[notice] A new release of pip is available: 23.2.1 -> 24.0\n",
      "[notice] To update, run: python.exe -m pip install --upgrade pip\n"
     ]
    }
   ],
   "source": [
    "!pip install gensim"
   ]
  },
  {
   "cell_type": "code",
   "execution_count": 14,
   "id": "0b451b10-d400-480e-85f2-80d8c413421d",
   "metadata": {},
   "outputs": [],
   "source": [
    "from gensim.models import Word2Vec\n",
    "w2v = Word2Vec(df['tokensed_tweets'], vector_size=256, window=10, min_count=10, workers=4, sg=1)"
   ]
  },
  {
   "cell_type": "markdown",
   "id": "52acc932-ade0-4fe2-8b08-ba2b3f439c16",
   "metadata": {},
   "source": [
    "**<h5>1.3.2.1 Let's look at vector for the word 'android'</h5>**"
   ]
  },
  {
   "cell_type": "code",
   "execution_count": 15,
   "id": "5f5accaf-937d-40eb-9f31-f856a79592e9",
   "metadata": {},
   "outputs": [
    {
     "data": {
      "text/plain": [
       "array([ 0.3608644 , -0.306029  , -0.01954144,  0.0152333 ,  0.10012552,\n",
       "        0.39814124, -0.05092034, -0.25978547, -0.00392098,  0.04846304,\n",
       "       -0.25644204,  0.05728363,  0.04554237, -0.40631154, -0.220381  ,\n",
       "        0.60656816, -0.20990098,  0.057057  , -0.05031004,  0.65821785,\n",
       "        0.00461497, -0.01310502, -0.22872756, -0.40701324, -0.1591111 ,\n",
       "        0.2552863 ,  0.14393651,  0.1681494 , -0.01561705,  0.18083933,\n",
       "        0.31931463,  0.18265572,  0.18244116, -0.69071513, -0.3374406 ,\n",
       "        0.12834273,  0.05878092, -0.2502038 , -0.02604861,  0.14901653,\n",
       "        0.10964089, -0.0161303 , -0.23987646,  0.02040904, -0.06109064,\n",
       "       -0.1683101 , -0.0337422 , -0.33289334,  0.24150465, -0.10041108,\n",
       "        0.1656503 , -0.2013687 ,  0.03171809, -0.15571621,  0.25847968,\n",
       "       -0.01561768, -0.16502208,  0.06257934,  0.15644555, -0.03119417,\n",
       "       -0.09540324,  0.21551949,  0.01969908,  0.09156301,  0.10574993,\n",
       "        0.18335761, -0.22995763,  0.04480803,  0.03452076, -0.38723183,\n",
       "        0.09722214, -0.09945026, -0.19458939,  0.07631858, -0.086692  ,\n",
       "       -0.01555023,  0.16889565, -0.08878393,  0.08835489,  0.18609229,\n",
       "        0.36635327, -0.04975423, -0.10683604, -0.36037222, -0.17825116,\n",
       "        0.17525928, -0.00674263,  0.32499477, -0.23709664,  0.10007269,\n",
       "       -0.15839694,  0.19988254,  0.11096971,  0.29072028,  0.10153828,\n",
       "        0.03225792, -0.07441022,  0.02832181, -0.22427838, -0.22282238,\n",
       "       -0.27966717,  0.00824479, -0.13802557, -0.05428398,  0.27397996,\n",
       "        0.45120147,  0.18797527, -0.05866333,  0.2906342 , -0.33266383,\n",
       "        0.04830246, -0.14278169, -0.35151413,  0.33222356,  0.2272731 ,\n",
       "       -0.12134161,  0.01629397, -0.30446905,  0.30640018,  0.27628613,\n",
       "       -0.30166015, -0.27626747, -0.22100024,  0.03737708, -0.0961305 ,\n",
       "        0.06606691,  0.10288989, -0.02136633, -0.21132877,  0.16591026,\n",
       "       -0.05927709, -0.1315635 ,  0.52623814, -0.12750418, -0.23954916,\n",
       "       -0.3348128 , -0.00127166, -0.1031329 , -0.3480073 , -0.05075283,\n",
       "        0.15641178,  0.00499788, -0.14652812,  0.44701266,  0.16265267,\n",
       "       -0.2524978 ,  0.23817383,  0.09027484, -0.14102967, -0.46858948,\n",
       "       -0.19943008, -0.16215134,  0.2010589 ,  0.21761559, -0.07428069,\n",
       "        0.46327356,  0.39631855, -0.24033298, -0.43063122, -0.13188158,\n",
       "        0.2840181 , -0.10672142,  0.07104528, -0.17745033, -0.24661231,\n",
       "       -0.14575559,  0.10163324,  0.13144298,  0.32864454,  0.191031  ,\n",
       "        0.3039202 ,  0.10653654,  0.19496618,  0.15962107, -0.13619815,\n",
       "        0.05853404, -0.0685012 ,  0.22407149, -0.2460989 ,  0.11249319,\n",
       "        0.37870243, -0.32750103,  0.40621597, -0.01202176,  0.40059805,\n",
       "        0.03110881, -0.21419421, -0.17032383,  0.12407385, -0.08329704,\n",
       "       -0.16733815,  0.0800809 ,  0.35916317, -0.26552603, -0.16268186,\n",
       "        0.24733992,  0.00885148, -0.01187952,  0.19324978, -0.11574225,\n",
       "       -0.28416416, -0.21271871,  0.14856088,  0.11065368, -0.00380696,\n",
       "        0.3072356 , -0.02187454,  0.17724366, -0.22463018, -0.3634221 ,\n",
       "       -0.15932281, -0.13923496, -0.14749882, -0.33538914, -0.22169355,\n",
       "       -0.21030313,  0.0554437 , -0.09264392, -0.14986974,  0.14011988,\n",
       "        0.12675695,  0.0582009 , -0.00806167,  0.22428307, -0.09384831,\n",
       "        0.10144183, -0.12789245,  0.03900701,  0.00228715, -0.11553027,\n",
       "       -0.2563751 ,  0.04257611, -0.15825455, -0.19468623,  0.11733778,\n",
       "        0.16355877,  0.1672013 ,  0.06640406,  0.04900927, -0.1379799 ,\n",
       "        0.39975116,  0.06482551, -0.06056309, -0.12419041,  0.04160773,\n",
       "       -0.01462314,  0.4467204 , -0.05458434,  0.36265072,  0.04380696,\n",
       "        0.12862381,  0.06747301,  0.0641735 , -0.20362395,  0.07534871,\n",
       "        0.363658  ], dtype=float32)"
      ]
     },
     "execution_count": 15,
     "metadata": {},
     "output_type": "execute_result"
    }
   ],
   "source": [
    "w2v.wv.get_vector('android')"
   ]
  },
  {
   "cell_type": "markdown",
   "id": "e7ad54f4-9196-4635-9f5f-930d2f2c4281",
   "metadata": {},
   "source": [
    "**<h5>1.3.2.2 Let's look at the words that are close to word 'android'</h5>**"
   ]
  },
  {
   "cell_type": "code",
   "execution_count": 16,
   "id": "894e2cd6-09c9-4aba-b829-9c053d85912b",
   "metadata": {},
   "outputs": [
    {
     "data": {
      "text/plain": [
       "[('ios', 0.7493204474449158),\n",
       " ('battery', 0.653163492679596),\n",
       " ('api', 0.6318997740745544),\n",
       " ('itt', 0.6278545260429382),\n",
       " ('ipad', 0.6248323917388916),\n",
       " ('processor', 0.6167888641357422),\n",
       " ('unusable', 0.6118691563606262),\n",
       " ('lite', 0.6087886691093445),\n",
       " ('keyboard', 0.5965186357498169),\n",
       " ('cookies', 0.5865893959999084)]"
      ]
     },
     "execution_count": 16,
     "metadata": {},
     "output_type": "execute_result"
    }
   ],
   "source": [
    "w2v.wv.most_similar('android')"
   ]
  },
  {
   "cell_type": "markdown",
   "id": "436af54e-01ec-45a2-a6f1-88065bb39ce6",
   "metadata": {},
   "source": [
    "**<hs>1.3.2.3 Finding number of elements</h5>**"
   ]
  },
  {
   "cell_type": "code",
   "execution_count": 17,
   "id": "a9e0a8e8-7559-4663-8f23-057d85375993",
   "metadata": {},
   "outputs": [
    {
     "data": {
      "text/plain": [
       "7884"
      ]
     },
     "execution_count": 17,
     "metadata": {},
     "output_type": "execute_result"
    }
   ],
   "source": [
    "word_vocab = w2v.wv.key_to_index\n",
    "len(word_vocab.keys())"
   ]
  },
  {
   "cell_type": "markdown",
   "id": "64312904-d136-46a8-b0ac-292add5e1d6b",
   "metadata": {},
   "source": [
    "**<h4>1.4 Text representation of categories in numbers</h4>**"
   ]
  },
  {
   "cell_type": "code",
   "execution_count": 18,
   "id": "e6afb5ff-dcc1-4d07-985f-68b44ed5f1a3",
   "metadata": {},
   "outputs": [
    {
     "data": {
      "text/plain": [
       "array(['Positive', 'Neutral', 'Negative', 'Irrelevant'], dtype=object)"
      ]
     },
     "execution_count": 18,
     "metadata": {},
     "output_type": "execute_result"
    }
   ],
   "source": [
    "df.Positive.unique()"
   ]
  },
  {
   "cell_type": "code",
   "execution_count": 19,
   "id": "182e42bd-18dc-4940-9560-31cd3c2f530d",
   "metadata": {},
   "outputs": [
    {
     "data": {
      "text/html": [
       "<div>\n",
       "<style scoped>\n",
       "    .dataframe tbody tr th:only-of-type {\n",
       "        vertical-align: middle;\n",
       "    }\n",
       "\n",
       "    .dataframe tbody tr th {\n",
       "        vertical-align: top;\n",
       "    }\n",
       "\n",
       "    .dataframe thead th {\n",
       "        text-align: right;\n",
       "    }\n",
       "</style>\n",
       "<table border=\"1\" class=\"dataframe\">\n",
       "  <thead>\n",
       "    <tr style=\"text-align: right;\">\n",
       "      <th></th>\n",
       "      <th>2401</th>\n",
       "      <th>Borderlands</th>\n",
       "      <th>Positive</th>\n",
       "      <th>im getting on borderlands and i will murder you all ,</th>\n",
       "      <th>tokensed_tweets</th>\n",
       "    </tr>\n",
       "  </thead>\n",
       "  <tbody>\n",
       "    <tr>\n",
       "      <th>0</th>\n",
       "      <td>2401</td>\n",
       "      <td>Borderlands</td>\n",
       "      <td>3</td>\n",
       "      <td>I am coming to the borders and I will kill you...</td>\n",
       "      <td>[coming, borders, kill]</td>\n",
       "    </tr>\n",
       "    <tr>\n",
       "      <th>1</th>\n",
       "      <td>2401</td>\n",
       "      <td>Borderlands</td>\n",
       "      <td>3</td>\n",
       "      <td>im getting on borderlands and i will kill you ...</td>\n",
       "      <td>[im, getting, borderlands, kill]</td>\n",
       "    </tr>\n",
       "    <tr>\n",
       "      <th>2</th>\n",
       "      <td>2401</td>\n",
       "      <td>Borderlands</td>\n",
       "      <td>3</td>\n",
       "      <td>im coming on borderlands and i will murder you...</td>\n",
       "      <td>[im, coming, borderlands, murder]</td>\n",
       "    </tr>\n",
       "    <tr>\n",
       "      <th>3</th>\n",
       "      <td>2401</td>\n",
       "      <td>Borderlands</td>\n",
       "      <td>3</td>\n",
       "      <td>im getting on borderlands 2 and i will murder ...</td>\n",
       "      <td>[im, getting, borderlands, 2, murder]</td>\n",
       "    </tr>\n",
       "    <tr>\n",
       "      <th>4</th>\n",
       "      <td>2401</td>\n",
       "      <td>Borderlands</td>\n",
       "      <td>3</td>\n",
       "      <td>im getting into borderlands and i can murder y...</td>\n",
       "      <td>[im, getting, borderlands, murder]</td>\n",
       "    </tr>\n",
       "  </tbody>\n",
       "</table>\n",
       "</div>"
      ],
      "text/plain": [
       "   2401  Borderlands  Positive  \\\n",
       "0  2401  Borderlands         3   \n",
       "1  2401  Borderlands         3   \n",
       "2  2401  Borderlands         3   \n",
       "3  2401  Borderlands         3   \n",
       "4  2401  Borderlands         3   \n",
       "\n",
       "  im getting on borderlands and i will murder you all ,  \\\n",
       "0  I am coming to the borders and I will kill you...      \n",
       "1  im getting on borderlands and i will kill you ...      \n",
       "2  im coming on borderlands and i will murder you...      \n",
       "3  im getting on borderlands 2 and i will murder ...      \n",
       "4  im getting into borderlands and i can murder y...      \n",
       "\n",
       "                         tokensed_tweets  \n",
       "0                [coming, borders, kill]  \n",
       "1       [im, getting, borderlands, kill]  \n",
       "2      [im, coming, borderlands, murder]  \n",
       "3  [im, getting, borderlands, 2, murder]  \n",
       "4     [im, getting, borderlands, murder]  "
      ]
     },
     "execution_count": 19,
     "metadata": {},
     "output_type": "execute_result"
    }
   ],
   "source": [
    "from sklearn.preprocessing import LabelEncoder\n",
    "encoder = LabelEncoder()\n",
    "df['Positive'] = encoder.fit_transform(df['Positive'])\n",
    "df.head()"
   ]
  },
  {
   "cell_type": "code",
   "execution_count": 20,
   "id": "5fb63dc8-8bb7-4d0c-bf04-e2411d4b858c",
   "metadata": {},
   "outputs": [
    {
     "data": {
      "text/plain": [
       "array([3, 2, 1, 0])"
      ]
     },
     "execution_count": 20,
     "metadata": {},
     "output_type": "execute_result"
    }
   ],
   "source": [
    "df.Positive.unique()"
   ]
  },
  {
   "cell_type": "markdown",
   "id": "b527674d-d7e0-44c5-81b3-4ba2792e1720",
   "metadata": {},
   "source": [
    "**<h4>1.5 Decoder and Encoder</h4>**"
   ]
  },
  {
   "cell_type": "code",
   "execution_count": 21,
   "id": "1d1e2b85-0323-4443-a9e1-8cfd41e4be9f",
   "metadata": {},
   "outputs": [],
   "source": [
    "word_vocab = {k:(v+3) for k,v in word_vocab.items()}\n",
    "word_vocab[\"<PAD>\"] = 0\n",
    "word_vocab[\"<START>\"] = 1\n",
    "word_vocab[\"<UNKNOWN>\"] = 2\n",
    "\n",
    "reverse_word_vocab = dict([(value, key) for (key, value) in word_vocab.items()])\n",
    "\n",
    "# index sequence to text\n",
    "def decode_review(text):\n",
    "    return ' '.join([reverse_word_vocab.get(i, '?') for i in text])\n",
    "\n",
    "# text to index sequence\n",
    "def encode_review(text):\n",
    "    text = ['<START>'] + text\n",
    "    indexes = np.array([word_vocab.get(word, word_vocab['<UNKNOWN>']) for word in text])\n",
    "    return indexes"
   ]
  },
  {
   "cell_type": "code",
   "execution_count": 22,
   "id": "0e9874d4-680e-4636-8790-a5ded04466ef",
   "metadata": {},
   "outputs": [
    {
     "name": "stdout",
     "output_type": "stream",
     "text": [
      "['im', 'getting', 'borderlands', 'kill']\n",
      "[  1 206  94  69 320]\n",
      "Example of a decoded review: \n",
      "<START> im getting borderlands kill\n"
     ]
    }
   ],
   "source": [
    "df['vect'] = df.tokensed_tweets.apply(encode_review)\n",
    "print(df.tokensed_tweets[1])\n",
    "print(df.vect[1])\n",
    "print('Example of a decoded review: \\n{}'.format(decode_review(df.vect[1])))"
   ]
  },
  {
   "cell_type": "markdown",
   "id": "b34edf9f-8cb0-48d9-8684-72979a3ec580",
   "metadata": {},
   "source": [
    "**<h5>1.6 Split data into test and validation sets</h5>**"
   ]
  },
  {
   "cell_type": "code",
   "execution_count": 23,
   "id": "b3528981-b657-47e8-8bcf-16d4891d3e42",
   "metadata": {},
   "outputs": [],
   "source": [
    "from sklearn.model_selection import train_test_split\n",
    "X_train, X_test, y_train, y_test = train_test_split(df.vect, df.Positive, test_size=0.2, random_state=40)"
   ]
  },
  {
   "cell_type": "code",
   "execution_count": 24,
   "id": "b5f9283e-824f-40b0-9953-df92f49d03ca",
   "metadata": {},
   "outputs": [
    {
     "data": {
      "text/plain": [
       "9952     [1, 217, 187, 55, 267, 1957, 4823, 1069, 63, 3...\n",
       "5667     [1, 110, 298, 551, 945, 42, 247, 429, 722, 309...\n",
       "38790                               [1, 39, 2, 1154, 1233]\n",
       "32604    [1, 34, 380, 95, 197, 86, 345, 1564, 146, 4, 4...\n",
       "29729    [1, 214, 2, 1665, 56, 103, 978, 2062, 3, 93, 6...\n",
       "Name: vect, dtype: object"
      ]
     },
     "execution_count": 24,
     "metadata": {},
     "output_type": "execute_result"
    }
   ],
   "source": [
    "X_train[:5]"
   ]
  },
  {
   "cell_type": "code",
   "execution_count": 25,
   "id": "eda33724-5438-4c05-82a9-6ad00064c894",
   "metadata": {},
   "outputs": [
    {
     "data": {
      "text/plain": [
       "9952     2\n",
       "5667     2\n",
       "38790    1\n",
       "32604    2\n",
       "29729    1\n",
       "Name: Positive, dtype: int32"
      ]
     },
     "execution_count": 25,
     "metadata": {},
     "output_type": "execute_result"
    }
   ],
   "source": [
    "y_train[:5]"
   ]
  },
  {
   "cell_type": "markdown",
   "id": "4c576b46-120b-4c50-bcf1-3bf882ce1dab",
   "metadata": {},
   "source": [
    "**<h4>1.7 Encoding Y</h4>**"
   ]
  },
  {
   "cell_type": "code",
   "execution_count": 26,
   "id": "6b3940ef-30ae-4b26-96c9-e2d467b69f00",
   "metadata": {},
   "outputs": [],
   "source": [
    "from sklearn.preprocessing import OneHotEncoder\n",
    "ohe = OneHotEncoder()\n",
    "y_train_sparse = ohe.fit_transform(np.array(y_train).reshape(-1, 1))\n",
    "y_test_sparse = ohe.transform(np.array(y_test).reshape(-1, 1))\n",
    "\n",
    "# Convert sparse matrices to dense arrays\n",
    "y_train = y_train_sparse.toarray()\n",
    "y_test = y_test_sparse.toarray()"
   ]
  },
  {
   "cell_type": "code",
   "execution_count": 27,
   "id": "5b557354-f357-41e3-b9ee-ccf33fe73077",
   "metadata": {},
   "outputs": [
    {
     "data": {
      "text/plain": [
       "array([[0., 0., 1., 0.],\n",
       "       [0., 0., 1., 0.],\n",
       "       [0., 1., 0., 0.],\n",
       "       [0., 0., 1., 0.],\n",
       "       [0., 1., 0., 0.]])"
      ]
     },
     "execution_count": 27,
     "metadata": {},
     "output_type": "execute_result"
    }
   ],
   "source": [
    "y_train[:5]"
   ]
  },
  {
   "cell_type": "markdown",
   "id": "120bcfd6-7593-47a3-af9c-d28524e4a69f",
   "metadata": {},
   "source": [
    "**<h4>1.8 Convert data to the same length</h4>**"
   ]
  },
  {
   "cell_type": "code",
   "execution_count": 28,
   "id": "788507b2-b743-490c-862a-3efe3f08eefb",
   "metadata": {},
   "outputs": [
    {
     "name": "stdout",
     "output_type": "stream",
     "text": [
      "Length examples: [128, 128]\n",
      "=====================================\n",
      "Entry example: [   1  217  187   55  267 1957 4823 1069   63   38   90  100  983 1005\n",
      "  731 3383 7559    2 1397    2    2    3    0    0    0    0    0    0\n",
      "    0    0    0    0    0    0    0    0    0    0    0    0    0    0\n",
      "    0    0    0    0    0    0    0    0    0    0    0    0    0    0\n",
      "    0    0    0    0    0    0    0    0    0    0    0    0    0    0\n",
      "    0    0    0    0    0    0    0    0    0    0    0    0    0    0\n",
      "    0    0    0    0    0    0    0    0    0    0    0    0    0    0\n",
      "    0    0    0    0    0    0    0    0    0    0    0    0    0    0\n",
      "    0    0    0    0    0    0    0    0    0    0    0    0    0    0\n",
      "    0    0]\n"
     ]
    }
   ],
   "source": [
    "from random import randint\n",
    "\n",
    "MAX_SEQ_LEN = 128 # Final sequence length\n",
    "\n",
    "train_data = tf.keras.preprocessing.sequence.pad_sequences(\n",
    "    X_train,\n",
    "    value=word_vocab[\"<PAD>\"],\n",
    "    padding='post',\n",
    "    maxlen=MAX_SEQ_LEN)\n",
    "\n",
    "valid_data = tf.keras.preprocessing.sequence.pad_sequences(\n",
    "    X_test,\n",
    "    value=word_vocab[\"<PAD>\"],\n",
    "    padding='post',\n",
    "    maxlen=MAX_SEQ_LEN)\n",
    "\n",
    "print(\"Length examples: {}\".format([len(train_data[randint(0, 99)]), len(train_data[0])]))\n",
    "print('=====================================')\n",
    "print(\"Entry example: {}\".format(train_data[randint(0, 99)]))"
   ]
  },
  {
   "cell_type": "markdown",
   "id": "588ccbb7-2890-420b-a5af-2883700433c2",
   "metadata": {},
   "source": [
    "**<h4>2. Create Model</h4>**"
   ]
  },
  {
   "cell_type": "code",
   "execution_count": 29,
   "id": "9c285ae5-f3a6-4fab-b720-314749c0d3a0",
   "metadata": {},
   "outputs": [
    {
     "name": "stdout",
     "output_type": "stream",
     "text": [
      "WARNING:tensorflow:From C:\\Users\\rusha\\AppData\\Local\\Programs\\Python\\Python311\\Lib\\site-packages\\keras\\src\\backend.py:873: The name tf.get_default_graph is deprecated. Please use tf.compat.v1.get_default_graph instead.\n",
      "\n",
      "Model: \"sequential\"\n",
      "_________________________________________________________________\n",
      " Layer (type)                Output Shape              Param #   \n",
      "=================================================================\n",
      " embedding (Embedding)       (None, None, 64)          1725440   \n",
      "                                                                 \n",
      " bidirectional (Bidirection  (None, None, 64)          24832     \n",
      " al)                                                             \n",
      "                                                                 \n",
      " batch_normalization (Batch  (None, None, 64)          256       \n",
      " Normalization)                                                  \n",
      "                                                                 \n",
      " bidirectional_1 (Bidirecti  (None, None, 64)          24832     \n",
      " onal)                                                           \n",
      "                                                                 \n",
      " batch_normalization_1 (Bat  (None, None, 64)          256       \n",
      " chNormalization)                                                \n",
      "                                                                 \n",
      " bidirectional_2 (Bidirecti  (None, 64)                24832     \n",
      " onal)                                                           \n",
      "                                                                 \n",
      " dense (Dense)               (None, 4)                 260       \n",
      "                                                                 \n",
      "=================================================================\n",
      "Total params: 1800708 (6.87 MB)\n",
      "Trainable params: 1800452 (6.87 MB)\n",
      "Non-trainable params: 256 (1.00 KB)\n",
      "_________________________________________________________________\n"
     ]
    }
   ],
   "source": [
    "BATCH_SIZE = 256\n",
    "\n",
    "model_lstm = tf.keras.Sequential([\n",
    "    tf.keras.layers.Embedding(26960, 64),\n",
    "    tf.keras.layers.Bidirectional(\n",
    "        tf.keras.layers.LSTM(32, return_sequences=True, dropout=0.5, recurrent_dropout=0.5)\n",
    "        ),\n",
    "    tf.keras.layers.BatchNormalization(),\n",
    "    tf.keras.layers.Bidirectional(\n",
    "        tf.keras.layers.LSTM(32, return_sequences=True, dropout=0.5, recurrent_dropout=0.5)\n",
    "        ),\n",
    "    tf.keras.layers.BatchNormalization(),\n",
    "    tf.keras.layers.Bidirectional(\n",
    "        tf.keras.layers.LSTM(32, return_sequences=False, dropout=0.5, recurrent_dropout=0.5)\n",
    "        ),\n",
    "    tf.keras.layers.Dense(4, activation='softmax'),\n",
    "])\n",
    "model_lstm.summary()\n",
    "\n",
    "model_lstm.compile(optimizer=tf.keras.optimizers.Adam(1e-3),\n",
    "                loss=tf.keras.losses.categorical_crossentropy,\n",
    "                metrics=[tf.keras.metrics.AUC()])"
   ]
  },
  {
   "cell_type": "markdown",
   "id": "c625e3ca-5f0e-4b3c-acc6-1b86d4c63db9",
   "metadata": {},
   "source": [
    "**<h4>3. Model Training</h4>**"
   ]
  },
  {
   "cell_type": "code",
   "execution_count": 30,
   "id": "c6675cc9-b0ee-41cd-8a33-cb95d068214d",
   "metadata": {},
   "outputs": [
    {
     "data": {
      "image/png": "[encoded data removed]",
      "text/plain": [
       "<Figure size 1200x800 with 2 Axes>"
      ]
     },
     "metadata": {},
     "output_type": "display_data"
    },
    {
     "name": "stdout",
     "output_type": "stream",
     "text": [
      "auc\n",
      "\ttraining         \t (min:    0.744, max:    0.948, cur:    0.948)\n",
      "\tvalidation       \t (min:    0.826, max:    0.931, cur:    0.931)\n",
      "Loss\n",
      "\ttraining         \t (min:    0.551, max:    1.165, cur:    0.551)\n",
      "\tvalidation       \t (min:    0.673, max:    1.146, cur:    0.673)\n",
      "232/232 [==============================] - 2742s 12s/step - loss: 0.5507 - auc: 0.9482 - val_loss: 0.6732 - val_auc: 0.9306\n"
     ]
    }
   ],
   "source": [
    "EPOCHS = 5\n",
    "history = model_lstm.fit(\n",
    "    train_data, y_train,\n",
    "    batch_size=BATCH_SIZE,\n",
    "    validation_data=(valid_data, y_test),\n",
    "    epochs=EPOCHS,\n",
    "    callbacks=[PlotLossesCallback()]\n",
    ")"
   ]
  },
  {
   "cell_type": "markdown",
   "id": "7103cfcf-81da-4364-9821-3db74566235d",
   "metadata": {},
   "source": [
    "**<h4>4. Predict and test model</h4>**"
   ]
  },
  {
   "cell_type": "code",
   "execution_count": 31,
   "id": "4547ebae-f6ad-46db-bcab-e987af210c35",
   "metadata": {},
   "outputs": [
    {
     "name": "stdout",
     "output_type": "stream",
     "text": [
      "1/1 [==============================] - 3s 3s/step\n"
     ]
    },
    {
     "data": {
      "text/plain": [
       "array([[0.0026732 , 0.8461878 , 0.13975438, 0.01138464]], dtype=float32)"
      ]
     },
     "execution_count": 31,
     "metadata": {},
     "output_type": "execute_result"
    }
   ],
   "source": [
    "model_lstm.predict(valid_data[0, None])"
   ]
  },
  {
   "cell_type": "code",
   "execution_count": 32,
   "id": "666d6367-527e-4d67-bf15-ca8804fa407f",
   "metadata": {},
   "outputs": [
    {
     "name": "stdout",
     "output_type": "stream",
     "text": [
      "463/463 [==============================] - 33s 72ms/step - loss: 0.6732 - auc: 0.9306\n",
      "Test loss: 0.6732\n",
      "Test accuracy: 93.06 %\n"
     ]
    }
   ],
   "source": [
    "results = model_lstm.evaluate(valid_data, y_test)\n",
    "\n",
    "print('Test loss: {:.4f}'.format(results[0]))\n",
    "print('Test accuracy: {:.2f} %'.format(results[1]*100))"
   ]
  }
 ],
 "metadata": {
  "kernelspec": {
   "display_name": "Python 3 (ipykernel)",
   "language": "python",
   "name": "python3"
  },
  "language_info": {
   "codemirror_mode": {
    "name": "ipython",
    "version": 3
   },
   "file_extension": ".py",
   "mimetype": "text/x-python",
   "name": "python",
   "nbconvert_exporter": "python",
   "pygments_lexer": "ipython3",
   "version": "3.11.6"
  }
 },
 "nbformat": 4,
 "nbformat_minor": 5
}
